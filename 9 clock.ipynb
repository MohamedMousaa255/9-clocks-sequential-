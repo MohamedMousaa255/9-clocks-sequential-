{
 "cells": [
  {
   "cell_type": "code",
   "execution_count": 52,
   "id": "06547d19",
   "metadata": {},
   "outputs": [],
   "source": [
    "def base_4_convert(i):\n",
    "    result = []\n",
    "    while i > 0:\n",
    "            result.insert(0, i % 4)\n",
    "            i = i // 4\n",
    "    return result\n",
    "\n",
    "def base_4_convert2(i):\n",
    "    arr=base_4_convert(i)\n",
    "    n=len(arr)\n",
    "    for x in range (9-n):\n",
    "        arr.insert(0,0)\n",
    "    return arr  \n",
    "import numpy as np\n",
    "initial_state=np.array([3,3,0,2,2,2,2,1,2])\n",
    "key_1=np.array([ 1,1,0,1,1,0,0,0,0 ])\n",
    "key_2=np.array([ 1,1,1,0,0,0,0,0,0 ])\n",
    "key_3=np.array([ 0,1,1,0,1,1,0,0,0 ])\n",
    "key_4=np.array([ 1,0,0,1,0,0,1,0,0 ])\n",
    "key_5=np.array([ 0,1,0,1,1,1,0,1,0 ])\n",
    "key_6=np.array([ 0,0,1,0,0,1,0,0,1 ])\n",
    "key_7=np.array([ 0,0,0,1,1,0,1,1,0 ])\n",
    "key_8=np.array([ 0,0,0,0,0,0,1,1,1 ])\n",
    "key_9=np.array([ 0,0,0,0,1,1,0,1,1 ])\n",
    "key_table=[key_1,key_2,key_3,key_4,key_5,key_6,key_7,key_8,key_9]"
   ]
  },
  {
   "cell_type": "code",
   "execution_count": 56,
   "id": "99a6b68b",
   "metadata": {},
   "outputs": [
    {
     "name": "stdout",
     "output_type": "stream",
     "text": [
      "the sloution is use this key\n",
      "9\n",
      "8\n",
      "5\n",
      "4\n",
      "[4 4 0 4 4 4 4 4 4]\n"
     ]
    }
   ],
   "source": [
    "for x in range (0,4**9,2):\n",
    "    initial_state1=initial_state\n",
    "    flag1=0\n",
    "    arr=base_4_convert2(x)\n",
    "    for x in range(9):\n",
    "        initial_state1=initial_state1+arr[8-x]*key_table[x]\n",
    "    for x in range(9):\n",
    "        if (initial_state1[x] ) % 4 ==0:\n",
    "            flag1=flag1+1  \n",
    "        if  flag1==9 :\n",
    "            print( \"the sloution is use this key\")\n",
    "            for x in range (9):\n",
    "                if arr[x]!=0 :\n",
    "                    print(9-x)\n",
    "            print (initial_state1)\n",
    "            break \n",
    "for x in range (0,4**9,3):\n",
    "    initial_state1=initial_state\n",
    "    flag1=0\n",
    "    arr=base_4_convert2(x)\n",
    "    for x in range(9):\n",
    "        initial_state1=initial_state1+arr[8-x]*key_table[x]\n",
    "    for x in range(9):\n",
    "        if (initial_state1[x] ) % 4 ==0:\n",
    "            flag1=flag1+1  \n",
    "        if  flag1==9 :\n",
    "            print( \"the sloution is use this key\")\n",
    "            for x in range (9):\n",
    "                if arr[x]!=0 :\n",
    "                    print(9-x)\n",
    "            print (initial_state1)\n",
    "            break \n",
    "for x in range (2,4**9,3):\n",
    "    initial_state1=initial_state\n",
    "    flag1=0\n",
    "    arr=base_4_convert2(x)\n",
    "    for x in range(9):\n",
    "        initial_state1=initial_state1+arr[8-x]*key_table[x]\n",
    "    for x in range(9):\n",
    "        if (initial_state1[x] ) % 4 ==0:\n",
    "            flag1=flag1+1  \n",
    "        if  flag1==9 :\n",
    "            print( \"the sloution is use this key\")\n",
    "            for x in range (9):\n",
    "                if arr[x]!=0 :\n",
    "                    print(9-x)\n",
    "            print (initial_state1)\n",
    "            break "
   ]
  },
  {
   "cell_type": "code",
   "execution_count": null,
   "id": "87ab68a6",
   "metadata": {},
   "outputs": [],
   "source": []
  }
 ],
 "metadata": {
  "kernelspec": {
   "display_name": "Python 3 (ipykernel)",
   "language": "python",
   "name": "python3"
  },
  "language_info": {
   "codemirror_mode": {
    "name": "ipython",
    "version": 3
   },
   "file_extension": ".py",
   "mimetype": "text/x-python",
   "name": "python",
   "nbconvert_exporter": "python",
   "pygments_lexer": "ipython3",
   "version": "3.9.12"
  }
 },
 "nbformat": 4,
 "nbformat_minor": 5
}
