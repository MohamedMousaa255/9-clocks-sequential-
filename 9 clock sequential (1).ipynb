{
 "cells": [
  {
   "cell_type": "markdown",
   "id": "a8716758",
   "metadata": {},
   "source": [
    "\n",
    "## creat function to convert  the decimal number to the quantry"
   ]
  },
  {
   "cell_type": "code",
   "execution_count": 8,
   "id": "eba361bc",
   "metadata": {},
   "outputs": [],
   "source": [
    "def base_4_convert(i):\n",
    "    result = []\n",
    "    while i > 0:\n",
    "            result.insert(0, i % 4)\n",
    "            i = i // 4\n",
    "    return result"
   ]
  },
  {
   "cell_type": "markdown",
   "id": "8cb107b9",
   "metadata": {},
   "source": [
    "\n",
    "## function to refill the rest of digit by zero"
   ]
  },
  {
   "cell_type": "code",
   "execution_count": 9,
   "id": "c40b7faa",
   "metadata": {},
   "outputs": [],
   "source": [
    "def base_4_convert2(i):\n",
    "    arr=base_4_convert(i)\n",
    "    n=len(arr)\n",
    "    for x in range (9-n):\n",
    "        arr.insert(0,0)\n",
    "    return arr\n"
   ]
  },
  {
   "cell_type": "markdown",
   "id": "b7f596ab",
   "metadata": {},
   "source": [
    "## array contain intial of 9 clock "
   ]
  },
  {
   "cell_type": "code",
   "execution_count": 10,
   "id": "afb81f80",
   "metadata": {},
   "outputs": [],
   "source": [
    "import numpy as np\n",
    "initial_state=np.array([3,3,0,2,2,2,2,1,2])"
   ]
  },
  {
   "cell_type": "markdown",
   "id": "cb272896",
   "metadata": {},
   "source": [
    "## all nine key effect in the clocks"
   ]
  },
  {
   "cell_type": "code",
   "execution_count": 11,
   "id": "a8119331",
   "metadata": {},
   "outputs": [],
   "source": [
    "key_1=np.array([ 1,1,0,1,1,0,0,0,0 ])\n",
    "key_2=np.array([ 1,1,1,0,0,0,0,0,0 ])\n",
    "key_3=np.array([ 0,1,1,0,1,1,0,0,0 ])\n",
    "key_4=np.array([ 1,0,0,1,0,0,1,0,0 ])\n",
    "key_5=np.array([ 0,1,0,1,1,1,0,1,0 ])\n",
    "key_6=np.array([ 0,0,1,0,0,1,0,0,1 ])\n",
    "key_7=np.array([ 0,0,0,1,1,0,1,1,0 ])\n",
    "key_8=np.array([ 0,0,0,0,0,0,1,1,1 ])\n",
    "key_9=np.array([ 0,0,0,0,1,1,0,1,1 ])"
   ]
  },
  {
   "cell_type": "markdown",
   "id": "54d67274",
   "metadata": {},
   "source": [
    "## table of the keys"
   ]
  },
  {
   "cell_type": "code",
   "execution_count": 12,
   "id": "b9945af2",
   "metadata": {},
   "outputs": [],
   "source": [
    "key_table=[key_1,key_2,key_3,key_4,key_5,key_6,key_7,key_8,key_9]"
   ]
  },
  {
   "cell_type": "markdown",
   "id": "41081824",
   "metadata": {},
   "source": [
    "### -we have 4^9 possbilities so we make 4^9 loop and check the if we reach the goal or not \n",
    "###  -mape decimal to quantry ,use key table then check if reach to the goal or not , if reach to the goal break "
   ]
  },
  {
   "cell_type": "code",
   "execution_count": 14,
   "id": "b1e79d6b",
   "metadata": {},
   "outputs": [
    {
     "name": "stdout",
     "output_type": "stream",
     "text": [
      "the sloution is use this key\n",
      "9\n",
      "8\n",
      "5\n",
      "4\n",
      "[4 4 0 4 4 4 4 4 4]\n"
     ]
    }
   ],
   "source": [
    "for x in range (4**9):\n",
    "    initial_state1=initial_state\n",
    "    flag1=0\n",
    "    arr=base_4_convert2(x)\n",
    "    for x in range(9):\n",
    "        initial_state1=initial_state1+arr[8-x]*key_table[x]\n",
    "    for x in range(9):\n",
    "        if (initial_state1[x] ) % 4 ==0:\n",
    "            flag1=flag1+1  \n",
    "        if  flag1==9 :\n",
    "            print( \"the sloution is use this key\")\n",
    "            for x in range (9):\n",
    "                if arr[x]!=0 :\n",
    "                    print(9-x)\n",
    "            print (initial_state1)\n",
    "            break"
   ]
  },
  {
   "cell_type": "markdown",
   "id": "a89fee5b",
   "metadata": {},
   "source": [
    "#### if we have 3 processors \n",
    "#### processor 1 start from zero   0,3,6,9,12,........(4^9)-2"
   ]
  },
  {
   "cell_type": "code",
   "execution_count": 15,
   "id": "aff64c28",
   "metadata": {},
   "outputs": [],
   "source": [
    "for x in range (0,4**9,3):\n",
    "    initial_state1=initial_state\n",
    "    flag1=0\n",
    "    arr=base_4_convert2(x)\n",
    "    for x in range(9):\n",
    "        initial_state1=initial_state1+arr[8-x]*key_table[x]\n",
    "    for x in range(9):\n",
    "        if (initial_state1[x] ) % 4 ==0:\n",
    "            flag1=flag1+1  \n",
    "        if  flag1==9 :\n",
    "            print( \"the sloution is use this key\")\n",
    "            for x in range (9):\n",
    "                if arr[x]!=0 :\n",
    "                    print(9-x)\n",
    "            print (initial_state1)\n",
    "            break "
   ]
  },
  {
   "cell_type": "markdown",
   "id": "5a75d5f6",
   "metadata": {},
   "source": [
    "#### processor 2 start from one   1,4,7,10,.....(4^9)-1"
   ]
  },
  {
   "cell_type": "code",
   "execution_count": 17,
   "id": "dc27e67b",
   "metadata": {},
   "outputs": [
    {
     "name": "stdout",
     "output_type": "stream",
     "text": [
      "the sloution is use this key\n",
      "9\n",
      "8\n",
      "5\n",
      "4\n",
      "[4 4 0 4 4 4 4 4 4]\n"
     ]
    }
   ],
   "source": [
    "for x in range (1,4**9,3):\n",
    "    initial_state1=initial_state\n",
    "    flag1=0\n",
    "    arr=base_4_convert2(x)\n",
    "    for x in range(9):\n",
    "        initial_state1=initial_state1+arr[8-x]*key_table[x]\n",
    "    for x in range(9):\n",
    "        if (initial_state1[x] ) % 4 ==0:\n",
    "            flag1=flag1+1  \n",
    "        if  flag1==9 :\n",
    "            print( \"the sloution is use this key\")\n",
    "            for x in range (9):\n",
    "                if arr[x]!=0 :\n",
    "                    print(9-x)\n",
    "            print (initial_state1)\n",
    "            break"
   ]
  },
  {
   "cell_type": "markdown",
   "id": "8d478e69",
   "metadata": {},
   "source": [
    "#### processor 3 start from two   2,5,8,11,.....(4^9)          "
   ]
  },
  {
   "cell_type": "code",
   "execution_count": 18,
   "id": "4115b87b",
   "metadata": {},
   "outputs": [],
   "source": [
    "for x in range (2,4**9,3):\n",
    "    initial_state1=initial_state\n",
    "    flag1=0\n",
    "    arr=base_4_convert2(x)\n",
    "    for x in range(9):\n",
    "        initial_state1=initial_state1+arr[8-x]*key_table[x]\n",
    "    for x in range(9):\n",
    "        if (initial_state1[x] ) % 4 ==0:\n",
    "            flag1=flag1+1  \n",
    "        if  flag1==9 :\n",
    "            print( \"the sloution is use this key\")\n",
    "            for x in range (9):\n",
    "                if arr[x]!=0 :\n",
    "                    print(9-x)\n",
    "            print (initial_state1)\n",
    "            break "
   ]
  }
 ],
 "metadata": {
  "kernelspec": {
   "display_name": "Python 3 (ipykernel)",
   "language": "python",
   "name": "python3"
  },
  "language_info": {
   "codemirror_mode": {
    "name": "ipython",
    "version": 3
   },
   "file_extension": ".py",
   "mimetype": "text/x-python",
   "name": "python",
   "nbconvert_exporter": "python",
   "pygments_lexer": "ipython3",
   "version": "3.9.12"
  }
 },
 "nbformat": 4,
 "nbformat_minor": 5
}
